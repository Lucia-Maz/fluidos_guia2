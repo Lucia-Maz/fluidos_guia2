{
 "cells": [
  {
   "cell_type": "code",
   "execution_count": 1,
   "id": "46f40a3d-2d62-4c73-83f3-f9847bb085a4",
   "metadata": {},
   "outputs": [],
   "source": [
    "import numpy as np\n",
    "from glob import glob\n",
    "import matplotlib.pyplot as plt\n",
    "%matplotlib inline\n",
    "import os\n",
    "import matplotlib.animation as animation\n",
    "%matplotlib qt5\n",
    "\n",
    "def smoothTriangle(data, degree):\n",
    "    triangle=np.concatenate((np.arange(degree + 1), np.arange(degree)[::-1])) # up then down\n",
    "    smoothed=[]\n",
    "\n",
    "    for i in range(degree, len(data) - degree * 2):\n",
    "        point=data[i:i + len(triangle)] * triangle\n",
    "        smoothed.append(np.sum(point)/np.sum(triangle))\n",
    "    # Handle boundaries\n",
    "    smoothed=[smoothed[0]]*int(degree + degree/2) + smoothed\n",
    "    while len(smoothed) < len(data):\n",
    "        smoothed.append(smoothed[-1])\n",
    "    return smoothed\n",
    "\n",
    "#defino mi propia funcion de busqueda de minimos \n",
    "\n",
    "def minimos_locales(data):\n",
    "    \n",
    "    t = np.arange(len(data)) \n",
    "    v = data \n",
    " \n",
    "    dv_dt=(np.diff(v ) )/ (np.diff(t ) )\n",
    "\n",
    "    a = dv_dt * np.roll(dv_dt , 1)\n",
    "\n",
    "    tmins = np.argwhere(a < 0)\n",
    "\n",
    "\n",
    "\n",
    "    return tmins"
   ]
  },
  {
   "cell_type": "markdown",
   "id": "e415dcb8-6af0-480a-bcc9-1e58aa3543a3",
   "metadata": {},
   "source": [
    "# Ejercicio 2, item b"
   ]
  },
  {
   "cell_type": "raw",
   "id": "44dcbf85",
   "metadata": {},
   "source": [
    "traemos los outs: archivos con las velocidades y vorticidades a cada tiempo"
   ]
  },
  {
   "cell_type": "code",
   "execution_count": 2,
   "id": "3ab3be9f-1154-49da-a120-38ae66505e24",
   "metadata": {},
   "outputs": [
    {
     "name": "stdout",
     "output_type": "stream",
     "text": [
      "helicity has been calculated\n",
      "saved helicity at time  1\n",
      "helicity has been calculated\n",
      "saved helicity at time  2\n",
      "helicity has been calculated\n",
      "saved helicity at time  3\n",
      "helicity has been calculated\n",
      "saved helicity at time  4\n",
      "helicity has been calculated\n",
      "saved helicity at time  5\n",
      "helicity has been calculated\n",
      "saved helicity at time  6\n",
      "helicity has been calculated\n",
      "saved helicity at time  7\n",
      "helicity has been calculated\n",
      "saved helicity at time  8\n",
      "helicity has been calculated\n",
      "saved helicity at time  9\n",
      "helicity has been calculated\n",
      "saved helicity at time  10\n",
      "helicity has been calculated\n",
      "saved helicity at time  11\n",
      "helicity has been calculated\n",
      "saved helicity at time  12\n",
      "helicity has been calculated\n",
      "saved helicity at time  13\n",
      "helicity has been calculated\n",
      "saved helicity at time  14\n",
      "helicity has been calculated\n",
      "saved helicity at time  15\n",
      "helicity has been calculated\n",
      "saved helicity at time  16\n",
      "helicity has been calculated\n",
      "saved helicity at time  17\n",
      "helicity has been calculated\n",
      "saved helicity at time  18\n",
      "helicity has been calculated\n",
      "saved helicity at time  19\n",
      "helicity has been calculated\n",
      "saved helicity at time  20\n"
     ]
    }
   ],
   "source": [
    "path = 'outs/'\n",
    "\n",
    "filelistvx = sorted(glob(path+'vx*.out'))\n",
    "filelistvy = sorted(glob(path+'vy*.out'))\n",
    "filelistvz = sorted(glob(path+'vz*.out'))\n",
    "\n",
    "filelistwx = sorted(glob(path+'wx*.out'))\n",
    "filelistwy = sorted(glob(path+'wy*.out'))\n",
    "filelistwz = sorted(glob(path+'wz*.out'))\n",
    "\n",
    "\n",
    "nfiles = np.size(filelistvx)\n",
    "filelistvx\n",
    "\n",
    "# Spatial resolution\n",
    "NX = 128\n",
    "NY = 128\n",
    "NZ = 128\n",
    "shape = (NX,NY,NZ)\n",
    "\n",
    "Hx = []\n",
    "Hy = []\n",
    "Hz = []\n",
    "\n",
    "for i in range(1, nfiles):\n",
    "    # Reads binary files x\n",
    "    vx = np.fromfile(filelistvx[i],dtype=np.float32)\n",
    "\n",
    "    wx = np.fromfile(filelistwx[i],dtype=np.float32)\n",
    "\n",
    "    # Reads binary files y\n",
    "\n",
    "\n",
    "    vy = np.fromfile(filelistvy[i],dtype=np.float32)\n",
    "\n",
    "\n",
    "    wy = np.fromfile(filelistwy[i],dtype=np.float32)\n",
    "\n",
    "    # Reads binary files z\n",
    "\n",
    "\n",
    "    vz = np.fromfile(filelistvz[i],dtype=np.float32)\n",
    "\n",
    "\n",
    "    wz = np.fromfile(filelistwz[i],dtype=np.float32)\n",
    "        \n",
    "    #caalculates v.w\n",
    "    hx = (vx*wx).reshape(shape,order='F')\n",
    "    hy = (vy*wy).reshape(shape,order='F')\n",
    "    hz = (vz*wz).reshape(shape,order='F')\n",
    "    print(\"helicity has been calculated\")\n",
    "    Hx.append(hx)\n",
    "    Hy.append(hy)\n",
    "    Hz.append(hz)\n",
    "    print(\"saved helicity at time \", i)\n",
    "    "
   ]
  },
  {
   "cell_type": "markdown",
   "id": "9f42cfaa",
   "metadata": {},
   "source": [
    "grafico de un corte en plano x,z de la helicidad a tiempo 0 y a tiempo final:\n"
   ]
  },
  {
   "cell_type": "code",
   "execution_count": 3,
   "id": "22ed994f-b8b9-4b94-b71a-b246fd5ed87c",
   "metadata": {},
   "outputs": [],
   "source": [
    "H3D = np.array(Hx)+np.array(Hy)+np.array(Hz)\n",
    "\n",
    "plt.close('all')\n",
    "\n",
    "plt.figure(1)\n",
    "#plt.imshow(Hx[19][:,:,int(NZ/2)]) #helicity_x in xy at time 19\n",
    "plt.imshow(H3D[0][:,int(NY/2),:].T) #helicity in xz at time 0\n",
    "plt.xlabel('x')\n",
    "plt.ylabel('z')\n",
    "plt.show()\n",
    "\n",
    "plt.figure(2)\n",
    "#plt.imshow(Hx[19][:,:,int(NZ/2)]) #helicity_x in xy at time 19\n",
    "plt.imshow(H3D[-1][:,int(NY/2),:].T) #helicity in xz at the end\n",
    "plt.xlabel('x')\n",
    "plt.ylabel('z')\n",
    "plt.show()"
   ]
  },
  {
   "cell_type": "markdown",
   "id": "d330e7d7",
   "metadata": {},
   "source": [
    "Animacion de un corte en plano x,z de la helicidad:"
   ]
  },
  {
   "cell_type": "code",
   "execution_count": 4,
   "id": "f0d453fb-8b32-43c0-8e1f-d77dc1cee3c1",
   "metadata": {},
   "outputs": [
    {
     "data": {
      "text/plain": [
       "<matplotlib.colorbar.Colorbar at 0x2258f97cd90>"
      ]
     },
     "execution_count": 4,
     "metadata": {},
     "output_type": "execute_result"
    }
   ],
   "source": [
    "\n",
    "fig = plt.figure()\n",
    "plt.xlabel('x')\n",
    "plt.ylabel('z')\n",
    "#agregar barrita de colores\n",
    "\n",
    "ims = []\n",
    "for k in range(len(H3D)):\n",
    "    im = plt.imshow(H3D[k][:,int(NY/2),:].T,animated=True) #helicity in xz at time k\n",
    "    ims.append([im])\n",
    "\n",
    "ani = animation.ArtistAnimation(fig, ims, interval=100, blit=True,\n",
    "                                repeat_delay=10)\n",
    "\n",
    "plt.colorbar()\n",
    "\n",
    "# ani.save('helicity_planoxy.gif') "
   ]
  },
  {
   "cell_type": "markdown",
   "id": "d4753630-443c-455c-978a-82a952856820",
   "metadata": {},
   "source": [
    "A medida que el sistema evoluciona, la helicidad se propaga en la dirección z (creo). BUSCAR DAVIDSON.\n",
    "“Turbulence in rotating, stratified, and electrically conducting fluids“, P.A. Davidson, Cambridge University Press (2013).\n",
    "\n",
    "Update: lo charle con Nahuel, y me confirmo que la propagacion de la helicidad es en z."
   ]
  },
  {
   "cell_type": "code",
   "execution_count": 7,
   "id": "a4bf91da-3b18-4164-92fb-714b13e23900",
   "metadata": {},
   "outputs": [
    {
     "data": {
      "text/plain": [
       "'from skimage import data\\nfrom scipy import ndimage as ndi\\nfrom napari_animation import Animation\\nimport napari'"
      ]
     },
     "execution_count": 7,
     "metadata": {},
     "output_type": "execute_result"
    }
   ],
   "source": [
    "#For later: animación 3D\n",
    "'''from skimage import data\n",
    "from scipy import ndimage as ndi\n",
    "from napari_animation import Animation\n",
    "import napari'''"
   ]
  },
  {
   "cell_type": "markdown",
   "id": "e04fb5a6-334f-479f-8410-e22230bb9e51",
   "metadata": {},
   "source": [
    "# Ejercicio 2, item c"
   ]
  },
  {
   "cell_type": "markdown",
   "id": "09a19712",
   "metadata": {},
   "source": [
    "usando binning del plano x,z (colapsando en la direccion x):"
   ]
  },
  {
   "cell_type": "code",
   "execution_count": 71,
   "id": "c2afca11",
   "metadata": {},
   "outputs": [],
   "source": [
    "#binning si axis = 0 colapsa las filas, si axis = 1 colapsa las columnas\n",
    "#quiero colapsar el eje x ---> osea solo quedarme con la dimension z\n",
    "\n",
    "bins = []\n",
    "for k in range(len(H3D)):\n",
    "    bin = np.mean(H3D[k][:,int(NY/2),:] , axis = 0) #helicity colapsada en el eje x  at time k\n",
    "    bins.append([bin])\n",
    "\n",
    "fig = plt.figure()\n",
    "plt.xlabel('mean helicity')\n",
    "plt.ylabel('z')\n",
    "\n",
    "ims1 = []\n",
    "for k in range(len(bins)):\n",
    "    im, = plt.plot(smoothTriangle(bins[k][0] , 15),animated=True) #helicity in xz at time k smootheado\n",
    "    ims1.append([im])\n",
    "\n",
    "ani = animation.ArtistAnimation(fig, ims1, interval=150, blit=True,\n",
    "                                repeat_delay=10)\n",
    "\n",
    "#ani.save('mean_helicity_evolution.gif') "
   ]
  },
  {
   "cell_type": "markdown",
   "id": "9c0c8fef",
   "metadata": {},
   "source": [
    "Se ve que hay unos paquetes que se propagan, helicidad neg y pos, con una velocidad definida para las crestas. Puedo calcular maximos y minimos locales a cada timepo para estimar la velocidad de propagacion.\n"
   ]
  },
  {
   "cell_type": "code",
   "execution_count": 25,
   "id": "e6d778ed",
   "metadata": {},
   "outputs": [],
   "source": [
    "mins = []\n",
    "\n",
    "for i in range(len(bins)):\n",
    "    m = minimos_locales( smoothTriangle(bins[i][0] , 15) )\n",
    "    mins.append(m.reshape((1,len(m)))[0] )"
   ]
  },
  {
   "cell_type": "code",
   "execution_count": 73,
   "id": "8b785c3e",
   "metadata": {},
   "outputs": [],
   "source": [
    "fig = plt.figure()\n",
    "plt.xlabel('peaks of helicity')\n",
    "plt.ylabel('z')\n",
    "\n",
    "\n",
    "ims1 = []\n",
    "for k in range(len(bins)):\n",
    "    im, = plt.plot(smoothTriangle(bins[k][0] , 15),animated=True) #helicity in xz at time k smootheado\n",
    "    ims1.append([im])\n",
    "\n",
    "\n",
    "ims2 = []\n",
    "for k in range(len(mins)):\n",
    "    \n",
    "    wave_values_k = []\n",
    "    for j in range(len(mins[k])):\n",
    "        wave_values_k.append(smoothTriangle( bins[k][0] , 15)[ mins[k][j] ] )\n",
    "    \n",
    "    im = plt.scatter( mins[k], wave_values_k , animated=True) #helicity in xz at time k smootheado\n",
    "    ims2.append([im])\n",
    "\n",
    "ani1 = animation.ArtistAnimation(fig, ims1, interval=150, blit=True,\n",
    "                                repeat_delay=10)\n",
    "    \n",
    "ani2 = animation.ArtistAnimation(fig, ims2, interval=150, blit=True,\n",
    "                                repeat_delay=10)\n"
   ]
  },
  {
   "cell_type": "markdown",
   "id": "422d610f",
   "metadata": {},
   "source": [
    "Probaremos con el metodo de calcular $$ Hcm  = \\frac{1}{H_{<0 o >0}} \\sum_{i=0}^{N} hi.ri $$ \n",
    "\n",
    "y calcularle la velocidad a estos objetos: deberian ser aproximadamente las posiciones 'centro de masa' de las helicidades negativas y positivas. Su velocidad en x deberia ser aprox nula, y la vel en z la que buscamos."
   ]
  },
  {
   "cell_type": "code",
   "execution_count": 5,
   "id": "f767ef7c",
   "metadata": {},
   "outputs": [
    {
     "name": "stdout",
     "output_type": "stream",
     "text": [
      "time , x , y , z :  (20, 128, 128, 128)\n"
     ]
    }
   ],
   "source": [
    "print('time , x , y , z : ' ,H3D.shape)"
   ]
  },
  {
   "cell_type": "markdown",
   "id": "69528253",
   "metadata": {},
   "source": [
    "para cada tiempo hay una matriz de 128x128x128 donde estan las helicidades (cantidad escalar!) para cada (x,y,z). \n",
    "\\\n",
    "\\\n",
    "Entonces en cada tiempo, aplico una mascara booleana para obtener los H<0 o H>0:\n",
    "\\\n",
    "\\\n",
    "(doc. para indexing con boolean masks en numpy: https://docs.scipy.org/doc/numpy-1.15.0/user/basics.indexing.html#boolean-or-mask-index-arrays , \\\n",
    "https://stackoverflow.com/questions/53814869/numpy-multidimensional-boolean-mask)\n",
    "\\\n",
    "\\\n",
    "la estrategia es multiplicar la mascara booleana por el array original, entonces los falsos dejaran ceros en los elementos correspondientes."
   ]
  },
  {
   "cell_type": "code",
   "execution_count": 6,
   "id": "c0f6f27e",
   "metadata": {},
   "outputs": [
    {
     "data": {
      "text/plain": [
       "(20, 128, 128, 128)"
      ]
     },
     "execution_count": 6,
     "metadata": {},
     "output_type": "execute_result"
    }
   ],
   "source": [
    "boolneg = H3D < 0\n",
    "\n",
    "H3Dneg = H3D*boolneg\n",
    "\n",
    "H3Dneg.shape #chequeo que el shape sea el mismo"
   ]
  },
  {
   "cell_type": "code",
   "execution_count": 7,
   "id": "cf7200f6",
   "metadata": {},
   "outputs": [
    {
     "data": {
      "text/plain": [
       "<matplotlib.colorbar.Colorbar at 0x2258c216970>"
      ]
     },
     "execution_count": 7,
     "metadata": {},
     "output_type": "execute_result"
    }
   ],
   "source": [
    "#animacion de helicidad negativa en un corte xz\n",
    "fig = plt.figure()\n",
    "plt.xlabel('x')\n",
    "plt.ylabel('z')\n",
    "#agregar barrita de colores\n",
    "\n",
    "ims = []\n",
    "for k in range(len(H3Dneg)):\n",
    "    im = plt.imshow(H3Dneg[k][:,int(NY/2),:].T,animated=True) #helicity in xz at time k\n",
    "    ims.append([im])\n",
    "\n",
    "ani = animation.ArtistAnimation(fig, ims, interval=100, blit=True,\n",
    "                                repeat_delay=10)\n",
    "\n",
    "plt.colorbar()"
   ]
  },
  {
   "cell_type": "code",
   "execution_count": 8,
   "id": "05b3ab33",
   "metadata": {},
   "outputs": [
    {
     "data": {
      "text/plain": [
       "(20, 128, 128, 128)"
      ]
     },
     "execution_count": 8,
     "metadata": {},
     "output_type": "execute_result"
    }
   ],
   "source": [
    "boolpos = H3D > 0\n",
    "\n",
    "H3Dpos = H3D*boolpos\n",
    "\n",
    "H3Dpos.shape #chequeo que el shape sea el mismo"
   ]
  },
  {
   "cell_type": "code",
   "execution_count": 25,
   "id": "11c58908",
   "metadata": {},
   "outputs": [
    {
     "data": {
      "text/plain": [
       "<matplotlib.colorbar.Colorbar at 0x225a0cbe0d0>"
      ]
     },
     "execution_count": 25,
     "metadata": {},
     "output_type": "execute_result"
    }
   ],
   "source": [
    "#animacion de helicidad positiva en un corte xz\n",
    "fig = plt.figure()\n",
    "plt.xlabel('x')\n",
    "plt.ylabel('z')\n",
    "#agregar barrita de colores\n",
    "\n",
    "ims = []\n",
    "for k in range(len(H3Dpos)):\n",
    "    im = plt.imshow(H3Dpos[k][:,int(NY/2),:].T,animated=True) #helicity in xz at time k\n",
    "    ims.append([im])\n",
    "\n",
    "ani = animation.ArtistAnimation(fig, ims, interval=100, blit=True,\n",
    "                                repeat_delay=10)\n",
    "\n",
    "plt.colorbar()"
   ]
  },
  {
   "cell_type": "code",
   "execution_count": 10,
   "id": "23bf5525",
   "metadata": {},
   "outputs": [],
   "source": [
    "from scipy.ndimage.measurements import center_of_mass"
   ]
  },
  {
   "cell_type": "code",
   "execution_count": 11,
   "id": "c8b3d9f6",
   "metadata": {},
   "outputs": [],
   "source": [
    "#para cada tiempo calculo centro de masa de Hpos y Hneg\n",
    "\n",
    "rcmHpos = np.zeros((len(H3D) , 3))\n",
    "rcmHneg = np.zeros((len(H3D) , 3))\n",
    "\n",
    "for k in range(len(H3D)):\n",
    "    rcmHposk = np.array(center_of_mass(H3Dpos[k] ))\n",
    "    rcmHnegk = np.array(center_of_mass(H3Dneg[k] ))\n",
    "    \n",
    "    rcmHpos[k][:] = rcmHposk\n",
    "    rcmHneg[k][:] = rcmHnegk\n",
    "\n"
   ]
  },
  {
   "cell_type": "code",
   "execution_count": 12,
   "id": "2b3d4f34",
   "metadata": {},
   "outputs": [
    {
     "data": {
      "text/plain": [
       "array([[61.73022678, 66.63094509, 56.12558394],\n",
       "       [61.36675103, 65.86510999, 52.24651953],\n",
       "       [60.92773609, 65.2052678 , 49.32265801],\n",
       "       [61.23258303, 65.27771008, 46.79559356],\n",
       "       [61.73893637, 65.34074109, 44.52975452],\n",
       "       [62.21405688, 65.49155677, 42.14342052],\n",
       "       [62.51342491, 65.55346079, 39.6505825 ],\n",
       "       [62.66298934, 65.59146603, 37.21448496],\n",
       "       [62.69815214, 65.67731814, 34.78529096],\n",
       "       [62.73099065, 65.78021928, 32.58599453],\n",
       "       [62.81624359, 65.88830787, 30.79635244],\n",
       "       [62.90979795, 66.00012814, 29.42382109],\n",
       "       [63.05134666, 66.11708442, 28.57729619],\n",
       "       [63.3228319 , 66.28828444, 28.53621117],\n",
       "       [63.8769545 , 66.51605786, 30.01221382],\n",
       "       [64.43582211, 66.54858554, 34.64253968],\n",
       "       [64.2113007 , 66.16036661, 44.05083714],\n",
       "       [64.03376603, 65.57037296, 56.48699875],\n",
       "       [64.67869555, 64.69067376, 67.75272466],\n",
       "       [65.16320813, 64.08170763, 75.55905673]])"
      ]
     },
     "execution_count": 12,
     "metadata": {},
     "output_type": "execute_result"
    }
   ],
   "source": [
    "rcmHpos"
   ]
  },
  {
   "cell_type": "code",
   "execution_count": 14,
   "id": "9211da9b",
   "metadata": {},
   "outputs": [
    {
     "data": {
      "text/plain": [
       "(20, 3)"
      ]
     },
     "execution_count": 14,
     "metadata": {},
     "output_type": "execute_result"
    }
   ],
   "source": [
    "rcmHneg.shape"
   ]
  },
  {
   "cell_type": "code",
   "execution_count": 32,
   "id": "abddcef1",
   "metadata": {},
   "outputs": [],
   "source": [
    "#me quedo solamente con la componente en z de rcm de los negativos y positivos\n",
    "rzneg= rcmHneg[: , -1]\n",
    "rzpos = rcmHpos[: , -1]\n",
    "\n",
    "#calculo la velocidad usando dif finita\n",
    "dt = 0.05 #en segundos\n",
    "vzneg = np.diff(rzneg)/dt\n",
    "vzpos = np.diff(rzpos)/dt"
   ]
  },
  {
   "cell_type": "markdown",
   "id": "dd5123aa",
   "metadata": {},
   "source": [
    "voy a visualizar los rcm sobre las animaciones"
   ]
  },
  {
   "cell_type": "code",
   "execution_count": 29,
   "id": "b1cbd408",
   "metadata": {},
   "outputs": [
    {
     "data": {
      "text/plain": [
       "<matplotlib.colorbar.Colorbar at 0x225a1b09dc0>"
      ]
     },
     "execution_count": 29,
     "metadata": {},
     "output_type": "execute_result"
    }
   ],
   "source": [
    "#animacion de helicidad positiva en un corte xz con su rcmz\n",
    "fig = plt.figure()\n",
    "plt.xlabel('x')\n",
    "plt.ylabel('z')\n",
    "#agregar barrita de colores\n",
    "\n",
    "ims1 = []\n",
    "for k in range(len(H3Dpos)):\n",
    "    im = plt.imshow(H3Dpos[k][:,int(NY/2),:].T,animated=True) #helicity in xz at time k\n",
    "    ims1.append([im])\n",
    "\n",
    "\n",
    "ims2 = []\n",
    "for k in range(len(rzpos)):\n",
    "    im = plt.hlines(rzpos[k],0 , 120 ,animated=True) #helicity in xz at time k\n",
    "    ims2.append([im])\n",
    "\n",
    "    \n",
    "ani1 = animation.ArtistAnimation(fig, ims1, interval=100, blit=True,\n",
    "                                repeat_delay=10)\n",
    "    \n",
    "ani2 = animation.ArtistAnimation(fig, ims2, interval=100, blit=True,\n",
    "                                repeat_delay=10)\n",
    "\n",
    "\n",
    "plt.colorbar()"
   ]
  },
  {
   "cell_type": "code",
   "execution_count": 31,
   "id": "0088203d",
   "metadata": {},
   "outputs": [
    {
     "data": {
      "text/plain": [
       "<matplotlib.colorbar.Colorbar at 0x225a36fa970>"
      ]
     },
     "execution_count": 31,
     "metadata": {},
     "output_type": "execute_result"
    }
   ],
   "source": [
    "#animacion de helicidad negativa en un corte xz con su rcmz\n",
    "fig = plt.figure()\n",
    "plt.xlabel('x')\n",
    "plt.ylabel('z')\n",
    "#agregar barrita de colores\n",
    "\n",
    "ims1 = []\n",
    "for k in range(len(H3Dneg)):\n",
    "    im = plt.imshow(H3Dneg[k][:,int(NY/2),:].T,animated=True) #helicity in xz at time k\n",
    "    ims1.append([im])\n",
    "\n",
    "\n",
    "ims2 = []\n",
    "for k in range(len(rzneg)):\n",
    "    im = plt.hlines(rzneg[k],0 , 120 ,animated=True) #helicity in xz at time k\n",
    "    ims2.append([im])\n",
    "\n",
    "    \n",
    "ani1 = animation.ArtistAnimation(fig, ims1, interval=100, blit=True,\n",
    "                                repeat_delay=10)\n",
    "    \n",
    "ani2 = animation.ArtistAnimation(fig, ims2, interval=100, blit=True,\n",
    "                                repeat_delay=10)\n",
    "\n",
    "\n",
    "plt.colorbar()"
   ]
  },
  {
   "cell_type": "raw",
   "id": "e585afab",
   "metadata": {},
   "source": [
    "se ve (con algunos problemas) que la rcm parece seguir al paquete hasta cierto tiempo, donde se rompe. Parece romperse porque, al tratarse de un recinto periodico llega un tiempo donde el paquete vuelve a salir por el origen: entonces la rcm pasa a estar en el medio del recinto (no tiene significado fisico, es como si se dividiese el paquete, lo cual no es real)"
   ]
  },
  {
   "cell_type": "code",
   "execution_count": 39,
   "id": "785503af",
   "metadata": {},
   "outputs": [
    {
     "data": {
      "text/plain": [
       "Text(0.5, 0, 't (s)')"
      ]
     },
     "execution_count": 39,
     "metadata": {},
     "output_type": "execute_result"
    }
   ],
   "source": [
    "plt.figure()\n",
    "\n",
    "plt.scatter(np.arange(0 , 1 , 0.05) , [0] + vzneg.tolist()  )\n",
    "plt.scatter(np.arange(0 , 1 , 0.05) , [0] + vzpos.tolist() )\n",
    "\n",
    "plt.ylabel('vz del centro de helicidad')\n",
    "plt.xlabel('t (s)')"
   ]
  },
  {
   "cell_type": "code",
   "execution_count": null,
   "id": "ef68bc83",
   "metadata": {},
   "outputs": [],
   "source": []
  }
 ],
 "metadata": {
  "kernelspec": {
   "display_name": "Python 3 (ipykernel)",
   "language": "python",
   "name": "python3"
  },
  "language_info": {
   "codemirror_mode": {
    "name": "ipython",
    "version": 3
   },
   "file_extension": ".py",
   "mimetype": "text/x-python",
   "name": "python",
   "nbconvert_exporter": "python",
   "pygments_lexer": "ipython3",
   "version": "3.9.7"
  }
 },
 "nbformat": 4,
 "nbformat_minor": 5
}
